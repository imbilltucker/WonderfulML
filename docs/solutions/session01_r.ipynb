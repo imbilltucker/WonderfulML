{
 "cells": [
  {
   "cell_type": "markdown",
   "metadata": {},
   "source": [
    "## The Wonderful World of ML - Session 1 Assignment Solutions"
   ]
  },
  {
   "cell_type": "markdown",
   "metadata": {},
   "source": [
    "1) Install jupyter notebook and configure it with an R kernel if you are an R user.  If you are Python user, your Anaconda install will have Python configured out of the box."
   ]
  },
  {
   "cell_type": "markdown",
   "metadata": {},
   "source": [
    "*Python users -* If you have installed the [latest version of Anaconda](https://www.continuum.io/downloads), you should have jupyter notebook as part of this install.  If you have a distribution of Python which doesn't include jupyter, you can do a **pip** install as described [here](http://jupyter.readthedocs.io/en/latest/install.html).  \n",
    "\n",
    "*R users -*  Because jupyter runs on Python, you will also need to install a Python distribution if you don't have one installed on your system already.  I recommend installing the [latest version of Anaconda](https://www.continuum.io/downloads) if you don't have a compelling reason not to use this distribution because it comes with jupyter as mentioned earlier.\n",
    "\n",
    "After Python and jupyter, I recommend that both R and Python users configure jupyter with an R kerenel.  I followed the [instructions described in this video](https://www.youtube.com/watch?v=I9a9Jj2A95g) and used [this reference](https://irkernel.github.io/installation/) as I went through the process."
   ]
  },
  {
   "cell_type": "markdown",
   "metadata": {},
   "source": [
    "2) What is machine learning?  Describe 3 examples."
   ]
  },
  {
   "cell_type": "markdown",
   "metadata": {},
   "source": [
    "*Machine learning (ML) is a type of artificial intelligence (AI) that provides computers with the ability to learn without being explicitly programmed. Machine learning focuses on the development of computer programs that can change when exposed to new data.*[[1]](http://whatis.techtarget.com/definition/machine-learning)\n",
    "\n",
    "Some examples:\n",
    "<ol>\n",
    "<li>Netflix Competition</li>\n",
    "  <ul>\n",
    "  <li>Session 2 assignment: What kind of algorithm was used? (Hint: Sondra will talk about this algorithm.)</li>\n",
    "  <li>Session 2 assignment: What type of algorithm was this? (Hint: Sondra will talk about two types of ML. Which type is this particular algorithm?)</li>\n",
    "  </ul>\n",
    "<li>Classification of Handwritten Digits</li>\n",
    "  <ul>\n",
    "    <li>Practical example: Post Office Automated Zipcode Sorting</li>\n",
    "  </ul>\n",
    "<li>Voice Recognition</li>\n",
    "  <ul>\n",
    "    <li>Voice to text example: Dragon Naturally Speaking</li>\n",
    "    <li>Voice commands: Apple's Seri, Amazon's Alexa, chatbots</li>\n",
    "  </ul>\n",
    "</ol>\n",
    "\n",
    "[1] [http://whatis.techtarget.com/definition/machine-learning](http://whatis.techtarget.com/definition/machine-learning)"
   ]
  },
  {
   "cell_type": "markdown",
   "metadata": {},
   "source": [
    "3) What is the difference between a probability mass function and probability density function?"
   ]
  },
  {
   "cell_type": "markdown",
   "metadata": {},
   "source": [
    "There are two key differences between a **probability mass function (PMF)** and a **probability density function (PDF)**.  The first difference is the type of data each function is used to describe.  A PMF is typically used to describe **discrete** distributions.  That is, the values being considered can only take on a finite number of values (e.g. the roll of die or the flip of coin).  A PDF is typically used to discribe continuous data.  That is, the values being considered can take on an infinite number of values (e.g. temperature measurements, fuel efficiency of a car in miles per gallon).\n",
    "\n",
    "The second difference is the type of output each function produces.  A PMF maps a discrete value to a probability.  Since the output of PMF is a probability, each output value must lie between 0 and 1.  A PDF maps a continuous value to a probability **density**, not an actual probability.  To compute an actual probability from a PDF, you must specify an interval for the input (e.g. temperature between 70.2 and 76.3F) and the calculate the area under the curve (AUC) in the interval in which you are interested.  This area will be equal to the probability that the input value will be observed in the given range relative to values outside the given range.\n",
    "\n",
    "The sum of all the possible values a PMF can take on must equal 1 to be a proper PMF.  The AUC for the entire PDF must equal 1 to be a proper PDF."
   ]
  },
  {
   "cell_type": "markdown",
   "metadata": {},
   "source": [
    "4) The National Sleep Foundation (www.sleepfoundation.org) reports that around 3% of the American population has sleep apnea. They also report that around 10% of the North American and European population has restless leg syndrome (RLS). Does this imply that 13% of people will have at least one sleep problems of these sorts?"
   ]
  },
  {
   "cell_type": "markdown",
   "metadata": {},
   "source": [
    "No, because there will likely be people who have both sleep apnea **and** RLS.  This means that number of people who have *at least* one of these conditions will be *less* that sum of the probabilities of people that have either of these conditions by themselves."
   ]
  },
  {
   "cell_type": "markdown",
   "metadata": {},
   "source": [
    "5) Given two binary random variables: D = having a disease (true or false) and T = test results for a disease (+ or -), derive the formula for the probability of having a disease given a positive test result p(D=true | T=+) aka **positive predictive value**."
   ]
  },
  {
   "cell_type": "markdown",
   "metadata": {},
   "source": [
    "<img src=\"https://raw.githubusercontent.com/MichaelSzczepaniak/WonderfulML/master/docs/graphics/question_01_05_bayes.jpg\">  "
   ]
  },
  {
   "cell_type": "markdown",
   "metadata": {},
   "source": [
    "6) Rewrite this formula in terms of sensitivity p(T=+ | D=true) and specificity p(T=- | D=false) of the test."
   ]
  },
  {
   "cell_type": "markdown",
   "metadata": {},
   "source": [
    "<img src=\"https://raw.githubusercontent.com/MichaelSzczepaniak/WonderfulML/master/docs/graphics/question_01_06_bayes_diagn.jpg\">"
   ]
  },
  {
   "cell_type": "markdown",
   "metadata": {},
   "source": [
    "7) If the probability of having disease D is 1% in the popultation and a test that diagnoses this disease is accurate 80% of the time, what is the probability that a person with a + test result has the disease if the test gives a false positive 9.6% of the time?"
   ]
  },
  {
   "cell_type": "markdown",
   "metadata": {},
   "source": [
    "The trick to this one is to evaluate the denominator of Bayes Rule properly to get 7.8%.  Even doing this right is not very intuitive, so I offer the following graphic in the hopes of making to more so.\n",
    "\n",
    "<img src=\"https://raw.githubusercontent.com/MichaelSzczepaniak/WonderfulML/master/docs/graphics/bayesian_visualization_diag_test.jpg\">"
   ]
  },
  {
   "cell_type": "markdown",
   "metadata": {},
   "source": [
    "8) Say the mean of some population is the value m, if we take a random sample of 50 item from this population, compute the mean, put that sample back into the population, repeat this 1000 times and plot the distibution, what would the shape of this distribution of sample means look like?  What would we expect the mean of this distribution to be?"
   ]
  },
  {
   "cell_type": "markdown",
   "metadata": {},
   "source": [
    "The distribution of sample means would look Gaussian (bell-shaped), but much narrower/skinnier than the original population distribution because the standard error of the sample means would be $\\frac{\\sigma}{\\sqrt{n}}$ where $\\sigma$ is the standard deviation of the population from which the mean are taken.\n",
    "\n",
    "By the [Central Limit Theorem](https://onlinecourses.science.psu.edu/stat200/node/273), we would expect the mean of the distribution of sample means to be equal to the population mean."
   ]
  },
  {
   "cell_type": "markdown",
   "metadata": {},
   "source": [
    "9) Say I have a function of two variables $x_1$ and $x_2$ which I want to find the minimum of.  A contour plot of f(x1, x2) looks like this:  \n",
    "\n",
    "<img src=\"https://raw.githubusercontent.com/MichaelSzczepaniak/WonderfulML/master/docs/graphics/question_01_08_contours.jpg\">  \n",
    "\n",
    "If I start my search at point A and I use gradient descent, what direction would my next guess be in?"
   ]
  },
  {
   "cell_type": "markdown",
   "metadata": {},
   "source": [
    "Going *\"down the gradient\"* implies a direction that is tangential to the contour lines as shown by the green line in the graphic below:\n",
    "\n",
    "<img src=\"https://raw.githubusercontent.com/MichaelSzczepaniak/WonderfulML/master/docs/graphics/question_01_08_solution.jpg\"> \n",
    "\n",
    "How far we go along the green line in a single iteration step is an important thing to consider which we will discuss later in the series."
   ]
  },
  {
   "cell_type": "markdown",
   "metadata": {},
   "source": [
    "10) Most of know how to compute an average aka a **mean**.  Can you describe where the formula for the mean comes from?  How is it derived?  How about the standard deviation?"
   ]
  },
  {
   "cell_type": "markdown",
   "metadata": {},
   "source": [
    "The formula for the mean and standard deviation can be derived by plugging in the formula for the Gaussian Density function into the **Likelihood function** and then finding the maximum by first taking the partial derivative with respect to the mean $\\mu$, setting it equal to zero and solving for $\\mu$.  Then do the same thing, but taking the partial derivative with resepect to the standard deviation $\\sigma$, setting it equal to zero and solving for $\\sigma$."
   ]
  },
  {
   "cell_type": "markdown",
   "metadata": {},
   "source": []
  },
  {
   "cell_type": "code",
   "execution_count": null,
   "metadata": {
    "collapsed": true
   },
   "outputs": [],
   "source": []
  }
 ],
 "metadata": {
  "kernelspec": {
   "display_name": "R",
   "language": "R",
   "name": "ir"
  },
  "language_info": {
   "codemirror_mode": "r",
   "file_extension": ".r",
   "mimetype": "text/x-r-source",
   "name": "R",
   "pygments_lexer": "r",
   "version": "3.3.2"
  }
 },
 "nbformat": 4,
 "nbformat_minor": 2
}
